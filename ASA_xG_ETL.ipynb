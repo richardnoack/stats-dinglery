{
  "nbformat": 4,
  "nbformat_minor": 0,
  "metadata": {
    "colab": {
      "name": "ASA xG ETL.ipynb",
      "provenance": [],
      "collapsed_sections": [],
      "authorship_tag": "ABX9TyOCV57yrVKrM+uZ6/+NX0Lb",
      "include_colab_link": true
    },
    "kernelspec": {
      "name": "python3",
      "display_name": "Python 3"
    },
    "language_info": {
      "name": "python"
    }
  },
  "cells": [
    {
      "cell_type": "markdown",
      "metadata": {
        "id": "view-in-github",
        "colab_type": "text"
      },
      "source": [
        "<a href=\"https://colab.research.google.com/github/richardnoack/stats-dinglery/blob/main/ASA_xG_ETL.ipynb\" target=\"_parent\"><img src=\"https://colab.research.google.com/assets/colab-badge.svg\" alt=\"Open In Colab\"/></a>"
      ]
    },
    {
      "cell_type": "code",
      "execution_count": null,
      "metadata": {
        "id": "fLnm-fzGycCD",
        "colab": {
          "base_uri": "https://localhost:8080/"
        },
        "outputId": "6442a2a7-2617-4ae5-d8db-00cd487dc294"
      },
      "outputs": [
        {
          "output_type": "stream",
          "name": "stdout",
          "text": [
            "Gathering all players\n",
            "Gathering all teams\n",
            "Gathering all stadia\n",
            "Gathering all managers\n",
            "Gathering all referees\n",
            "Finished initializing client\n",
            "party on wayne\n"
          ]
        }
      ],
      "source": [
        "###Handling authentication with GCS\n",
        "\n",
        "from google.colab import auth\n",
        "auth.authenticate_user()\n",
        "print('party on wayne')\n",
        "\n",
        "from google.cloud import bigquery\n",
        "project_id = 'mls-stats'\n",
        "bq_client = bigquery.Client(project=project_id)\n",
        "\n",
        "\n",
        "###loading up ASA things\n",
        "\n",
        "from itscalledsoccer.client import AmericanSoccerAnalysis \n",
        "asa_client = AmericanSoccerAnalysis() \n",
        "\n",
        "### making tables look nicer\n",
        "%load_ext google.colab.data_table\n"
      ]
    },
    {
      "cell_type": "code",
      "source": [
        "#dir(AmericanSoccerAnalysis)\n",
        "### importing all the ASA tables needed\n",
        "mls_players = asa_client.get_players(leagues=\"mls\").drop('season_name', axis = 1)\n",
        "\n",
        "player_xg = asa_client.get_player_xgoals(leagues = 'mls').explode('team_id')#.drop('team_id', axis= 1) ### this combines stats across all teams a player played for\n",
        "\n",
        "mls_teams = asa_client.get_teams(leagues = 'mls')\n",
        "\n",
        "team_xg = asa_client.get_team_xgoals(leagues= 'mls')\n",
        "\n",
        "game_xg = asa_client.get_game_xgoals(leagues = 'mls')\n",
        "\n",
        "#games = asa_client.get_games(leagues = 'mls')\n",
        "\n",
        "\n"
      ],
      "metadata": {
        "id": "LNgHJDj70PVg"
      },
      "execution_count": null,
      "outputs": []
    },
    {
      "cell_type": "code",
      "source": [
        "###running a test query\n",
        "#bq_client.query('''SELECT * FROM mls-stats.asa_xg.rnoack_testing''').to_dataframe()\n",
        "#### loading the first table back into bigquery\n",
        "### use pandas gbq if needed https://pandas.pydata.org/pandas-docs/stable/reference/api/pandas.DataFrame.to_gbq.html#pandas.DataFrame.to_gbq\n",
        "\n",
        "job_config = bigquery.LoadJobConfig(write_disposition = 'WRITE_TRUNCATE')\n",
        "\n",
        "player_job = bq_client.load_table_from_dataframe(\n",
        "    mls_players, 'mls-stats.asa_xg.mls_players', job_config=job_config\n",
        ")  \n",
        "#####\n",
        "xg_game_job = bq_client.load_table_from_dataframe(\n",
        "    player_xg, 'mls-stats.asa_xg.mls_player_xg', job_config=job_config\n",
        ") \n",
        "#####\n",
        "team_job = bq_client.load_table_from_dataframe(\n",
        "    mls_teams, 'mls-stats.asa_xg.mls_teams', job_config=job_config\n",
        ") \n",
        "#####\n",
        "game_xg_job = bq_client.load_table_from_dataframe(\n",
        "    game_xg, 'mls-stats.asa_xg.game_xg', job_config=job_config\n",
        ") \n",
        "#####\n",
        "team_xg_job = bq_client.load_table_from_dataframe(\n",
        "    team_xg, 'mls-stats.asa_xg.team_xg', job_config=job_config\n",
        ") \n",
        "\n",
        "team_xg_job.result()\n",
        "game_xg_job.result()\n",
        "player_job.result()\n",
        "xg_game_job.result()\n",
        "team_job.result()"
      ],
      "metadata": {
        "id": "gDI9b6Q-D3Hv",
        "colab": {
          "base_uri": "https://localhost:8080/"
        },
        "outputId": "5ae148af-7484-4dc4-ca42-78d5cafc08d0"
      },
      "execution_count": null,
      "outputs": [
        {
          "output_type": "stream",
          "name": "stderr",
          "text": [
            "/usr/local/lib/python3.7/dist-packages/google/cloud/bigquery/_pandas_helpers.py:275: UserWarning: Unable to determine type of column 'player_id'.\n",
            "  warnings.warn(u\"Unable to determine type of column '{}'.\".format(column))\n",
            "/usr/local/lib/python3.7/dist-packages/google/cloud/bigquery/_pandas_helpers.py:275: UserWarning: Unable to determine type of column 'team_id'.\n",
            "  warnings.warn(u\"Unable to determine type of column '{}'.\".format(column))\n",
            "/usr/local/lib/python3.7/dist-packages/google/cloud/bigquery/_pandas_helpers.py:275: UserWarning: Unable to determine type of column 'game_id'.\n",
            "  warnings.warn(u\"Unable to determine type of column '{}'.\".format(column))\n"
          ]
        },
        {
          "output_type": "execute_result",
          "data": {
            "text/plain": [
              "<google.cloud.bigquery.job.LoadJob at 0x7f6770132c50>"
            ]
          },
          "metadata": {},
          "execution_count": 61
        }
      ]
    },
    {
      "cell_type": "code",
      "source": [
        "#### importing the MLS schedule and writing it back to BQ\n",
        "import pandas as pd \n",
        "json_schedule = pd.read_json('https://fgp-data-us.s3.amazonaws.com/json/mls_mls/rounds.json')\n",
        "job_config = bigquery.LoadJobConfig(write_disposition = 'WRITE_TRUNCATE')\n",
        "\n",
        "###https://medium.com/swlh/converting-nested-json-structures-to-pandas-dataframes-e8106c59976e\n",
        "scheddf = json_normalize(json_schedule['matches'])\n",
        "scheduledataframe = pd.DataFrame()\n",
        "for i in scheddf:\n",
        "  scheduledataframe = scheduledataframe.append(json_normalize(scheddf[i]))\n",
        "\n",
        "\n",
        "#removing null rows\n",
        "scheduledataframe = scheduledataframe.dropna(subset = ['home_squad_name'])\n",
        "print(scheduledataframe.shape) ### --> (29, 25)\n",
        "\n",
        "\n",
        "schedule_job = bq_client.load_table_from_dataframe(\n",
        "    scheduledataframe, 'mls-stats.asa_xg.schedule', job_config=job_config\n",
        ") "
      ],
      "metadata": {
        "id": "UsS9oKhLzsqo",
        "colab": {
          "base_uri": "https://localhost:8080/"
        },
        "outputId": "e4715430-ffd7-4ce7-e2ce-1e0a61717dc3"
      },
      "execution_count": null,
      "outputs": [
        {
          "output_type": "stream",
          "name": "stderr",
          "text": [
            "/usr/local/lib/python3.7/dist-packages/ipykernel_launcher.py:7: FutureWarning: pandas.io.json.json_normalize is deprecated, use pandas.json_normalize instead\n",
            "  import sys\n",
            "/usr/local/lib/python3.7/dist-packages/ipykernel_launcher.py:10: FutureWarning: pandas.io.json.json_normalize is deprecated, use pandas.json_normalize instead\n",
            "  # Remove the CWD from sys.path while we load stuff.\n",
            "/usr/local/lib/python3.7/dist-packages/google/cloud/bigquery/_pandas_helpers.py:275: UserWarning: Unable to determine type of column 'home_squad_odds_id'.\n",
            "  warnings.warn(u\"Unable to determine type of column '{}'.\".format(column))\n"
          ]
        },
        {
          "output_type": "stream",
          "name": "stdout",
          "text": [
            "(725, 26)\n"
          ]
        }
      ]
    },
    {
      "cell_type": "code",
      "source": [
        "\n",
        "\n"
      ],
      "metadata": {
        "id": "zDaIhsH23DK3"
      },
      "execution_count": null,
      "outputs": []
    }
  ]
}